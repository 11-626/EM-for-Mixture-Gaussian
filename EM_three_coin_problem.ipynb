{
 "cells": [
  {
   "cell_type": "markdown",
   "metadata": {},
   "source": [
    "# 三硬币模型\n",
    "\n",
    "有ABC三枚硬币，单次投掷出现正面的概率分别为s、p、q。利用这三枚硬币进行如下实验：\n",
    "\n",
    "1、第一次先投掷A，若出现正面则投掷B，否则投掷C\n",
    "\n",
    "2、记录第二次投掷的硬币出现的结果，正面记作1，反面记作0\n",
    "\n",
    "独立重复1和2十次，产生如下观测结果：\n",
    "\n",
    "1 1 0 1 0 0 1 0 1 1\n",
    "\n",
    "假设只能观测到掷硬币的最终结果，无法观测第一次投掷的是哪一枚硬币，求s、p、q，即三硬币模型的参数。"
   ]
  },
  {
   "cell_type": "markdown",
   "metadata": {},
   "source": [
    "# coding"
   ]
  },
  {
   "cell_type": "code",
   "execution_count": 55,
   "metadata": {},
   "outputs": [],
   "source": [
    "import numpy as np\n",
    "np.set_printoptions(formatter={'all':lambda x: '%.4f' % x})"
   ]
  },
  {
   "cell_type": "code",
   "execution_count": 26,
   "metadata": {},
   "outputs": [],
   "source": [
    "%matplotlib inline\n",
    "import matplotlib.pyplot as plt\n",
    "plt.style.use('ggplot')"
   ]
  },
  {
   "cell_type": "markdown",
   "metadata": {},
   "source": [
    "---"
   ]
  },
  {
   "cell_type": "code",
   "execution_count": 19,
   "metadata": {
    "code_folding": []
   },
   "outputs": [],
   "source": [
    "class SampleGenerator:\n",
    "    \n",
    "    def __init__(self, s, p, q, seed=100):\n",
    "        r\"\"\"initialize the hyperparameters and setup random seed\"\"\"\n",
    "        \n",
    "        self.p = {\"A\":s, \"B\":p, \"C\":q}\n",
    "        self.seed = seed\n",
    "        \n",
    "        np.random.seed(seed)\n",
    "    \n",
    "    def generate(self, N):\n",
    "        r\"\"\"generate a length N sample\"\"\"\n",
    "        self.count = {\"A\":N, \"B\":0, \"C\":0}\n",
    "        self.data = {}\n",
    "        \n",
    "        self.data[\"A\"] = np.random.binomial(n=1,p=self.p[\"A\"],size=self.count[\"A\"])\n",
    "        \n",
    "        self.count[\"B\"]= np.count_nonzero(self.data[\"A\"]==1)\n",
    "        self.data[\"B\"] = np.random.binomial(n=1,p=self.p[\"B\"],size=self.count[\"B\"])\n",
    "        \n",
    "        self.count[\"C\"] = self.count[\"A\"] - self.count[\"B\"]\n",
    "        self.data[\"C\"] = np.random.binomial(n=1,p=self.p[\"C\"],size=self.count[\"C\"])\n",
    "        \n",
    "        self.output = np.empty(self.data[\"A\"].shape, dtype=np.uint8)\n",
    "        self.output[self.data[\"A\"]==1][:] = self.data[\"B\"][:]\n",
    "        self.output[self.data[\"A\"]==0][:] = self.data[\"C\"][:]\n",
    "        \n",
    "        return self.output"
   ]
  },
  {
   "cell_type": "code",
   "execution_count": 123,
   "metadata": {},
   "outputs": [],
   "source": [
    "SG = SampleGenerator(0.6, 0.6, 0.6)\n",
    "sample = SG.generate(10)"
   ]
  },
  {
   "cell_type": "code",
   "execution_count": 124,
   "metadata": {},
   "outputs": [
    {
     "data": {
      "text/plain": [
       "({'A': 10, 'B': 7, 'C': 3}, {'A': 0.6, 'B': 0.6, 'C': 0.6})"
      ]
     },
     "execution_count": 124,
     "metadata": {},
     "output_type": "execute_result"
    }
   ],
   "source": [
    "SG.count, SG.p"
   ]
  },
  {
   "cell_type": "code",
   "execution_count": 125,
   "metadata": {},
   "outputs": [
    {
     "data": {
      "image/png": "[encoded data removed]",
      "text/plain": [
       "<Figure size 432x288 with 1 Axes>"
      ]
     },
     "metadata": {},
     "output_type": "display_data"
    }
   ],
   "source": [
    "plt.hist(sample, bins=2);"
   ]
  },
  {
   "cell_type": "markdown",
   "metadata": {},
   "source": [
    "求解这个问题分三步：\n",
    "1. 初始化 : 选取模型参数的初值：$\\theta^0 = (s^0, p^0, q^0)$循环如下两步迭代\n",
    "2. E-step : 计算在当前迭代的模型参数下，观测数据$Y$来自硬币B的概率 \n",
    "$$\n",
    "\\mu^{i+1} = \\frac{s^i (p^{i})^{y_j} (1-p^i)^{1-y_j}}{s^i (p^{i})^{y_j} (1-p^i)^{1-y_j} + (1-s^i) (q^{i})^{y_j} (1-q^i)^{1-y_j}}\n",
    "$$\n",
    "3. M-step : 估算下一个迭代的新的模型估算值\n",
    "$$\n",
    "s^{i+1} = \\frac{1}{N} \\sum_{j=1}^{N} \\mu_j^{i+1}\n",
    "$$\n",
    "$$\n",
    "p^{i+1} = \\frac{ \\sum_{j=1}^{N} \\mu_j^{i+1} y_j }{\\sum_{j=1}^{N} \\mu_j^{i+1}}\n",
    "$$\n",
    "$$\n",
    "q^{i+1} = \\frac{ \\sum_{j=1}^{N} (1-\\mu_j^{i+1}) y_j }{\\sum_{j=1}^{N} (1-\\mu_j^{i+1})}\n",
    "$$"
   ]
  },
  {
   "cell_type": "code",
   "execution_count": 126,
   "metadata": {},
   "outputs": [],
   "source": [
    "def EM_onestep(y, *args):\n",
    "    \n",
    "    #N = y.size\n",
    "    s, p, q = args\n",
    "    #print(s,p,q)\n",
    "    #-- E-step\n",
    "    #mu = np.empty(N, dtype=np.double)\n",
    "    #for j in range(N):\n",
    "    #    mu[j] = s * p**y[j]*(1-p)**(1-y[j]) / ( s * p**y[j]*(1-p)**(1-y[j]) + (1-s) * q**y[j]*(1-q)**(1-y[j]) )\n",
    "    mu = s * p**y[:] * (1-p)**(1-y[:]) / ( s * p**y[:] * (1-p)**(1-y[:]) + (1-s) * q**y[:] * (1-q)**(1-y[:]) )\n",
    "    #print(mu)\n",
    "        \n",
    "    #-- M-step\n",
    "    s_new = mu.mean()\n",
    "    p_new = mu.dot(y) / mu.sum()\n",
    "    q_new = (1-mu).dot(y) / (1-mu).sum()\n",
    "    \n",
    "    return s_new, p_new, q_new\n",
    "\n",
    "def EM_main(s, p, q, y, nLoop):\n",
    "    \n",
    "    s_, p_, q_ = s, p, q\n",
    "    for i in range(1, nLoop):\n",
    "        #print(f\"i={i:3d}, s={thetas[i-1][0]:.4f}, p={thetas[i-1][1]:.4f}, q={thetas[i-1][2]:.4f}\")\n",
    "        print(s_, p_, q_)\n",
    "        s_, p_, q_ = EM_onestep(y[:], s_, p_, q_)\n",
    "        \n",
    "    return thetas"
   ]
  },
  {
   "cell_type": "code",
   "execution_count": 127,
   "metadata": {
    "collapsed": true
   },
   "outputs": [
    {
     "name": "stdout",
     "output_type": "stream",
     "text": [
      "0.7 0.5 0.3\n",
      "0.744318181818 0.748091603053 0.56\n",
      "0.744318181818 0.748091603053 0.56\n",
      "0.744318181818 0.748091603053 0.56\n",
      "0.744318181818 0.748091603053 0.56\n",
      "0.744318181818 0.748091603053 0.56\n",
      "0.744318181818 0.748091603053 0.56\n",
      "0.744318181818 0.748091603053 0.56\n",
      "0.744318181818 0.748091603053 0.56\n"
     ]
    }
   ],
   "source": [
    "thetas = EM_main(0.7, 0.5, 0.3, sample[:], nLoop=10)"
   ]
  },
  {
   "cell_type": "code",
   "execution_count": 128,
   "metadata": {},
   "outputs": [
    {
     "data": {
      "text/plain": [
       "(0.10771113831089349, 0.2443181818181818, 0.53086419753086411)"
      ]
     },
     "execution_count": 128,
     "metadata": {},
     "output_type": "execute_result"
    }
   ],
   "source": [
    "EM_onestep(y[:], 0.1, 0.3, 0.6)"
   ]
  },
  {
   "cell_type": "code",
   "execution_count": 129,
   "metadata": {},
   "outputs": [
    {
     "data": {
      "text/plain": [
       "(0.10771113831089349, 0.24431818181818185, 0.53086419753086411)"
      ]
     },
     "execution_count": 129,
     "metadata": {},
     "output_type": "execute_result"
    }
   ],
   "source": [
    "EM_onestep(y[:], 0.10771113831089349, 0.2443181818181818, 0.53086419753086411)"
   ]
  },
  {
   "cell_type": "code",
   "execution_count": 86,
   "metadata": {},
   "outputs": [
    {
     "name": "stdout",
     "output_type": "stream",
     "text": [
      "0.0908207867897 0.379679144385 0.512019230769 0.0908207867897\n",
      "[0.0690 0.1127 0.1127 0.0690 0.1127 0.1127 0.0690 0.0690 0.1127 0.0690]\n"
     ]
    }
   ],
   "source": [
    "s, p, q = thetas[1,:]\n",
    "y = sample\n",
    "mu = s * p**y[:] * (1-p)**(1-y[:]) / ( s * p**y[:] * (1-p)**(1-y[:]) + (1-s) * q**y[:] * (1-q)**(1-y[:]) )\n",
    "print(s, p, q, mu.mean())\n",
    "print(mu)"
   ]
  }
 ],
 "metadata": {
  "kernelspec": {
   "display_name": "Python 3",
   "language": "python",
   "name": "python3"
  },
  "language_info": {
   "codemirror_mode": {
    "name": "ipython",
    "version": 3
   },
   "file_extension": ".py",
   "mimetype": "text/x-python",
   "name": "python",
   "nbconvert_exporter": "python",
   "pygments_lexer": "ipython3",
   "version": "3.6.2"
  },
  "toc": {
   "nav_menu": {},
   "number_sections": true,
   "sideBar": true,
   "skip_h1_title": false,
   "toc_cell": false,
   "toc_position": {},
   "toc_section_display": "block",
   "toc_window_display": false
  }
 },
 "nbformat": 4,
 "nbformat_minor": 2
}
