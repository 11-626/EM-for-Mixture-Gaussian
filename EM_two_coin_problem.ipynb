{
 "cells": [
  {
   "cell_type": "markdown",
   "metadata": {},
   "source": [
    "# 双硬币模型\n",
    "\n",
    "假设有两枚硬币A、B，以相同的概率随机选择一个硬币，进行如下的抛硬币实验：共做5次实验，每次实验独立的抛十次. 假设试验数据记录员忘了记录每次试验选择的是A还是B，我们无法观测实验数据中选择的硬币是哪个.问如何估计两个硬币正面出现的概率？"
   ]
  },
  {
   "cell_type": "markdown",
   "metadata": {},
   "source": [
    "![#](http://ww3.sinaimg.cn/large/6cbb8645gw1f4b95mzejvj20p60t0qab.jpg)"
   ]
  },
  {
   "cell_type": "markdown",
   "metadata": {},
   "source": [
    "假设已知A，B为正面的概率各为$\\theta_A, \\theta_B$,则对于一次连续投掷了10次正反各5次的实验,硬币X产生这么一组样本的概率为\n",
    "\n",
    "$$\n",
    "C_{10}^{5} \\theta_X^5 (1-\\theta_X)^{(10-5)}\n",
    "$$"
   ]
  },
  {
   "cell_type": "code",
   "execution_count": 4,
   "metadata": {},
   "outputs": [
    {
     "data": {
      "text/plain": [
       "0.20065812480000003"
      ]
     },
     "execution_count": 4,
     "metadata": {},
     "output_type": "execute_result"
    }
   ],
   "source": [
    "# theta_X = 0.6的话\n",
    "(10*9*8*7*6*5*4*3*2*1) / (5*4*3*2*1)**2 * (0.6)**5 * (0.4)**5"
   ]
  },
  {
   "cell_type": "markdown",
   "metadata": {},
   "source": [
    "是一个二项分布，可以用`scipy`中的`binom`来计算。\n",
    "\n",
    "    scipy.stats.binom.pmf(5,10,0.6)"
   ]
  },
  {
   "cell_type": "markdown",
   "metadata": {},
   "source": [
    "这样正规化后就可以求出每一组实验来自硬币X的均值$\\mu$. 有了$\\mu$，就可以估计数据中AB分别产生正反面的次数了。$\\mu$代表数据来自硬币A的概率的估计，将它乘上正面的总数，得到正面来自硬币A的总数，同理有反面，同理有B的正反面。"
   ]
  },
  {
   "cell_type": "markdown",
   "metadata": {},
   "source": [
    "---"
   ]
  },
  {
   "cell_type": "markdown",
   "metadata": {},
   "source": [
    "# coding"
   ]
  },
  {
   "cell_type": "code",
   "execution_count": 6,
   "metadata": {},
   "outputs": [],
   "source": [
    "import numpy as np\n",
    "from scipy import stats"
   ]
  },
  {
   "cell_type": "code",
   "execution_count": 2,
   "metadata": {},
   "outputs": [],
   "source": [
    "%matplotlib inline\n",
    "import matplotlib.pyplot as plt\n",
    "plt.style.use(\"ggplot\")"
   ]
  },
  {
   "cell_type": "code",
   "execution_count": 5,
   "metadata": {},
   "outputs": [],
   "source": [
    "# 硬币投掷结果观测序列\n",
    "observations = np.array([[1, 0, 0, 0, 1, 1, 0, 1, 0, 1],\n",
    "                         [1, 1, 1, 1, 0, 1, 1, 1, 1, 1],\n",
    "                         [1, 0, 1, 1, 1, 1, 1, 0, 1, 1],\n",
    "                         [1, 0, 1, 0, 0, 0, 1, 1, 0, 0],\n",
    "                         [0, 1, 1, 1, 0, 1, 1, 1, 0, 1]])"
   ]
  },
  {
   "cell_type": "code",
   "execution_count": 19,
   "metadata": {},
   "outputs": [],
   "source": [
    "def EM_onestep(priors, observations):\n",
    "    \"\"\"\n",
    "    EM算法单次迭代\n",
    "    \n",
    "    Arguments\n",
    "    ---------\n",
    "    priors : [theta_A, theta_B]\n",
    "    observations : [m X n matrix]\n",
    " \n",
    "    Returns\n",
    "    --------\n",
    "    new_priors: [new_theta_A, new_theta_B]\n",
    "    :param priors:\n",
    "    :param observations:\n",
    "    :return:\n",
    "    \"\"\"\n",
    "    counts = {'A': {'H': 0, 'T': 0}, 'B': {'H': 0, 'T': 0}}\n",
    "    theta_A, theta_B = priors\n",
    "    \n",
    "    #-- E step\n",
    "    for obs in observations:\n",
    "        L = len(obs)\n",
    "        num_heads = obs.sum()\n",
    "        num_tails = L - num_heads\n",
    "        contribution_A = stats.binom.pmf(num_heads, L, theta_A)\n",
    "        contribution_B = stats.binom.pmf(num_heads, L, theta_B)\n",
    "        weight_A = contribution_A / (contribution_A + contribution_B)\n",
    "        weight_B = contribution_B / (contribution_A + contribution_B)\n",
    "        # 更新在当前参数下A、B硬币产生的正反面次数\n",
    "        counts['A']['H'] += weight_A * num_heads\n",
    "        counts['A']['T'] += weight_A * num_tails\n",
    "        counts['B']['H'] += weight_B * num_heads\n",
    "        counts['B']['T'] += weight_B * num_tails\n",
    "    \n",
    "    #-- M step\n",
    "    new_theta_A = counts['A']['H'] / (counts['A']['H'] + counts['A']['T'])\n",
    "    new_theta_B = counts['B']['H'] / (counts['B']['H'] + counts['B']['T'])\n",
    "    \n",
    "    return new_theta_A, new_theta_B\n",
    "\n",
    "def EM_main(observations, prior_init, niter=100):\n",
    "    \"\"\"\n",
    "    EM算法\n",
    "    :param observations: 观测数据\n",
    "    :param prior_init: 模型初值\n",
    "    :param niter: 迭代次数\n",
    "    :return: 局部最优的模型参数\n",
    "    \"\"\"\n",
    "    prior = prior_init.copy()\n",
    "    for it in range(1,niter):\n",
    "        prior = EM_onestep(prior, observations)\n",
    "        print(f\"[{it:3d}/{niter:3d}] --> A: {prior[0]:.6f}, B: {prior[1]:.6f}\")\n",
    "        \n",
    "    return prior"
   ]
  },
  {
   "cell_type": "code",
   "execution_count": 23,
   "metadata": {},
   "outputs": [
    {
     "name": "stdout",
     "output_type": "stream",
     "text": [
      "[  1/ 10] --> A: 0.702257, B: 0.570088\n",
      "[  2/ 10] --> A: 0.742641, B: 0.567627\n",
      "[  3/ 10] --> A: 0.766954, B: 0.549492\n",
      "[  4/ 10] --> A: 0.782615, B: 0.534776\n",
      "[  5/ 10] --> A: 0.790814, B: 0.526387\n",
      "[  6/ 10] --> A: 0.794435, B: 0.522440\n",
      "[  7/ 10] --> A: 0.795891, B: 0.520751\n",
      "[  8/ 10] --> A: 0.796451, B: 0.520056\n",
      "[  9/ 10] --> A: 0.796663, B: 0.519774\n"
     ]
    },
    {
     "data": {
      "text/plain": [
       "(0.79666281984090592, 0.51977374275863775)"
      ]
     },
     "execution_count": 23,
     "metadata": {},
     "output_type": "execute_result"
    }
   ],
   "source": [
    "EM_main(observations, [0.5, 0.4], niter=10)"
   ]
  },
  {
   "cell_type": "code",
   "execution_count": 24,
   "metadata": {},
   "outputs": [
    {
     "name": "stdout",
     "output_type": "stream",
     "text": [
      "[  1/ 10] --> A: 0.660000, B: 0.660000\n",
      "[  2/ 10] --> A: 0.660000, B: 0.660000\n",
      "[  3/ 10] --> A: 0.660000, B: 0.660000\n",
      "[  4/ 10] --> A: 0.660000, B: 0.660000\n",
      "[  5/ 10] --> A: 0.660000, B: 0.660000\n",
      "[  6/ 10] --> A: 0.660000, B: 0.660000\n",
      "[  7/ 10] --> A: 0.660000, B: 0.660000\n",
      "[  8/ 10] --> A: 0.660000, B: 0.660000\n",
      "[  9/ 10] --> A: 0.660000, B: 0.660000\n"
     ]
    },
    {
     "data": {
      "text/plain": [
       "(0.66000000000000003, 0.66000000000000003)"
      ]
     },
     "execution_count": 24,
     "metadata": {},
     "output_type": "execute_result"
    }
   ],
   "source": [
    "# 初始值相同的话不可解\n",
    "EM_main(observations, [0.2, 0.2], niter=10)"
   ]
  }
 ],
 "metadata": {
  "kernelspec": {
   "display_name": "Python 3",
   "language": "python",
   "name": "python3"
  },
  "language_info": {
   "codemirror_mode": {
    "name": "ipython",
    "version": 3
   },
   "file_extension": ".py",
   "mimetype": "text/x-python",
   "name": "python",
   "nbconvert_exporter": "python",
   "pygments_lexer": "ipython3",
   "version": "3.6.2"
  },
  "toc": {
   "nav_menu": {},
   "number_sections": true,
   "sideBar": true,
   "skip_h1_title": false,
   "toc_cell": false,
   "toc_position": {},
   "toc_section_display": "block",
   "toc_window_display": false
  }
 },
 "nbformat": 4,
 "nbformat_minor": 2
}
